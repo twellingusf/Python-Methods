{
  "nbformat": 4,
  "nbformat_minor": 0,
  "metadata": {
    "colab": {
      "provenance": []
    },
    "kernelspec": {
      "name": "python3",
      "display_name": "Python 3"
    },
    "language_info": {
      "name": "python"
    }
  },
  "cells": [
    {
      "cell_type": "code",
      "execution_count": 86,
      "metadata": {
        "id": "4bBNMcN6eqhj"
      },
      "outputs": [],
      "source": [
        "import numpy as np"
      ]
    },
    {
      "cell_type": "code",
      "source": [
        "def random_list(size):\n",
        "    list = []\n",
        "    for i in range(size):\n",
        "        list.append(np.random.randint(10,50))\n",
        "    return list\n",
        "\n",
        "def sum_random(list):\n",
        "    sum = 0\n",
        "    for i in range(len(list)):\n",
        "        sum = sum + list[i]\n",
        "    return sum"
      ],
      "metadata": {
        "id": "FhwQBy11fDZJ"
      },
      "execution_count": 87,
      "outputs": []
    },
    {
      "cell_type": "code",
      "source": [
        "n = int(input(\"Enter an integer\"))"
      ],
      "metadata": {
        "colab": {
          "base_uri": "https://localhost:8080/"
        },
        "id": "99tnOOasfq4y",
        "outputId": "a3a2cff4-5424-4129-e1ce-9cbfac4f443b"
      },
      "execution_count": 88,
      "outputs": [
        {
          "name": "stdout",
          "output_type": "stream",
          "text": [
            "Enter an integer10\n"
          ]
        }
      ]
    },
    {
      "cell_type": "code",
      "source": [
        "MyList = random_list(n)\n",
        "MyList"
      ],
      "metadata": {
        "colab": {
          "base_uri": "https://localhost:8080/"
        },
        "id": "G4p5OWELf1PE",
        "outputId": "5e86d9c6-8666-4b0c-a0dd-a672867c6d50"
      },
      "execution_count": 89,
      "outputs": [
        {
          "output_type": "execute_result",
          "data": {
            "text/plain": [
              "[26, 24, 17, 32, 20, 34, 12, 24, 29, 15]"
            ]
          },
          "metadata": {},
          "execution_count": 89
        }
      ]
    },
    {
      "cell_type": "code",
      "source": [
        "MySum = sum_random(MyList)\n",
        "MySum"
      ],
      "metadata": {
        "colab": {
          "base_uri": "https://localhost:8080/"
        },
        "id": "6PbIW5fof9UM",
        "outputId": "145122b9-2119-47d1-9876-8820ad470402"
      },
      "execution_count": 90,
      "outputs": [
        {
          "output_type": "execute_result",
          "data": {
            "text/plain": [
              "233"
            ]
          },
          "metadata": {},
          "execution_count": 90
        }
      ]
    },
    {
      "cell_type": "code",
      "source": [
        "MyList2 = np.random.randint(10, 50, n)\n",
        "MyList2"
      ],
      "metadata": {
        "colab": {
          "base_uri": "https://localhost:8080/"
        },
        "id": "Ml503B3lgEHS",
        "outputId": "c4e83c4a-38b0-40d9-e759-0a3d97acf742"
      },
      "execution_count": 91,
      "outputs": [
        {
          "output_type": "execute_result",
          "data": {
            "text/plain": [
              "array([28, 21, 41, 48, 11, 31, 16, 10, 48, 23])"
            ]
          },
          "metadata": {},
          "execution_count": 91
        }
      ]
    },
    {
      "cell_type": "code",
      "source": [
        "MySum2 = sum(MyList2)\n",
        "MySum2"
      ],
      "metadata": {
        "colab": {
          "base_uri": "https://localhost:8080/"
        },
        "id": "C5YgMxvanoCb",
        "outputId": "4ce46160-ba04-48f2-c4aa-9f93674fc382"
      },
      "execution_count": 92,
      "outputs": [
        {
          "output_type": "execute_result",
          "data": {
            "text/plain": [
              "277"
            ]
          },
          "metadata": {},
          "execution_count": 92
        }
      ]
    },
    {
      "cell_type": "code",
      "source": [
        "print(\"The Elements of the arrays are:\",(MyList2))\n",
        "print(\"The sum is:\",(MySum2))"
      ],
      "metadata": {
        "colab": {
          "base_uri": "https://localhost:8080/"
        },
        "id": "CW_3wBH3n9LZ",
        "outputId": "a50d1a66-67a1-4d5c-b97d-6fc8924b42cd"
      },
      "execution_count": 93,
      "outputs": [
        {
          "output_type": "stream",
          "name": "stdout",
          "text": [
            "The Elements of the arrays are: [28 21 41 48 11 31 16 10 48 23]\n",
            "The sum is: 277\n"
          ]
        }
      ]
    }
  ]
}